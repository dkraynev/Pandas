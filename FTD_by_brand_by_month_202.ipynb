{
  "nbformat": 4,
  "nbformat_minor": 0,
  "metadata": {
    "colab": {
      "provenance": [],
      "authorship_tag": "ABX9TyNnb+i8RXQUNZX9q0uIeXZY",
      "include_colab_link": true
    },
    "kernelspec": {
      "name": "python3",
      "display_name": "Python 3"
    },
    "language_info": {
      "name": "python"
    }
  },
  "cells": [
    {
      "cell_type": "markdown",
      "metadata": {
        "id": "view-in-github",
        "colab_type": "text"
      },
      "source": [
        "<a href=\"https://colab.research.google.com/github/dkraynev/Pandas/blob/main/FTD_by_brand_by_month_202.ipynb\" target=\"_parent\"><img src=\"https://colab.research.google.com/assets/colab-badge.svg\" alt=\"Open In Colab\"/></a>"
      ]
    },
    {
      "cell_type": "code",
      "execution_count": 10,
      "metadata": {
        "colab": {
          "base_uri": "https://localhost:8080/"
        },
        "id": "5VhHGLitUHH4",
        "outputId": "e5b9abf9-b21a-48a0-ed0c-8eb5053d2e8d"
      },
      "outputs": [
        {
          "output_type": "stream",
          "name": "stdout",
          "text": [
            "Reading CSV from: G:My Drive\\002\\056\\ftd_by_months.csv\n"
          ]
        }
      ],
      "source": [
        "import os\n",
        "from pathlib import Path\n",
        "from datetime import datetime\n",
        "import pandas as pd\n",
        "import numpy as np\n",
        "import plotly.express as px\n",
        "import plotly.io as pio\n",
        "\n",
        "csv_path = Path(r\"G:My Drive\\002\\056\\ftd_by_months.csv\")\n",
        "out_dir = csv_path.parent\n",
        "out_dir.mkdir(parents=True, exist_ok=True)\n",
        "\n",
        "print(f\"Reading CSV from: {csv_path}\")\n",
        "\n",
        "df = pd.read_csv(csv_path)\n",
        "\n",
        "required_cols = {\"month\", \"Brand\", \"ftd_users\", \"no_bet_users\", \"no_bet_pct\"}\n",
        "missing = required_cols - set(df.columns)\n",
        "if missing:\n",
        "    raise ValuerError(f\"Missing required columns in CSV: {missing}\")\n",
        "\n",
        "df[\"month\"] = pd.to_datetime(df[\"month\"], errors=\"coerce\")\n",
        "df[\"Brand\"] = df[\"Brand\"].astype(str)\n"
      ]
    }
  ]
}