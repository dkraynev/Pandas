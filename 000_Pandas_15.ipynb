{
  "nbformat": 4,
  "nbformat_minor": 0,
  "metadata": {
    "colab": {
      "provenance": [],
      "authorship_tag": "ABX9TyOLvQx7iDa+URMkG3QuG2Tj",
      "include_colab_link": true
    },
    "kernelspec": {
      "name": "python3",
      "display_name": "Python 3"
    },
    "language_info": {
      "name": "python"
    }
  },
  "cells": [
    {
      "cell_type": "markdown",
      "metadata": {
        "id": "view-in-github",
        "colab_type": "text"
      },
      "source": [
        "<a href=\"https://colab.research.google.com/github/dkraynev/Pandas/blob/main/000_Pandas_15.ipynb\" target=\"_parent\"><img src=\"https://colab.research.google.com/assets/colab-badge.svg\" alt=\"Open In Colab\"/></a>"
      ]
    },
    {
      "cell_type": "markdown",
      "source": [
        "# 01 Create a DataFrame from List"
      ],
      "metadata": {
        "id": "W9kBQGydyUra"
      }
    },
    {
      "cell_type": "code",
      "source": [
        "import pandas as pd\n",
        "\n",
        "def createDataframe(student_data: List[List[int]]) -> pd.DataFrame:\n",
        "    return pd.DataFrame(student_data, columns=['student_id', 'age'])"
      ],
      "metadata": {
        "id": "gKn5aFXU9HsF"
      },
      "execution_count": null,
      "outputs": []
    },
    {
      "cell_type": "code",
      "source": [
        "import pandas as pd\n",
        "\n",
        "def createDataframe(student_data: List[List[int]]) -> pd.DataFrame:\n",
        "    return pd.DataFrame(student_data, columns=['student_id', 'age'])"
      ],
      "metadata": {
        "id": "4BXE7Xwxzk3W"
      },
      "execution_count": null,
      "outputs": []
    },
    {
      "cell_type": "code",
      "source": [
        "import pandas as pd\n",
        "\n",
        "def createDataframe(student_data: List[List[int]]) -> pd.DataFrame:\n",
        "    return pd.DataFrame(student_data, columns=['student_id', 'age'])"
      ],
      "metadata": {
        "id": "EJBU-EFvMWVX"
      },
      "execution_count": null,
      "outputs": []
    },
    {
      "cell_type": "markdown",
      "source": [
        "# 02 Get the Size of a DataFrame"
      ],
      "metadata": {
        "id": "T7aqrHlEyaPO"
      }
    },
    {
      "cell_type": "code",
      "source": [
        "import pandas as pd\n",
        "\n",
        "def getDataframeSize(players: pd.DataFrame) -> List[int]:\n",
        "    rows, columns = players.shape\n",
        "    return [rows, columns]"
      ],
      "metadata": {
        "id": "Lg7QEqW896Dr"
      },
      "execution_count": null,
      "outputs": []
    },
    {
      "cell_type": "code",
      "source": [
        "import pandas as pd\n",
        "\n",
        "def getDataframeSize(players: pd.DataFrame) -> List[int]:\n",
        "    return list(players.shape)"
      ],
      "metadata": {
        "id": "oR7Hg-AdyTj0"
      },
      "execution_count": null,
      "outputs": []
    },
    {
      "cell_type": "code",
      "source": [
        "import pandas as pd\n",
        "\n",
        "def getDataframeSize(players: pd.DataFrame) -> List[int]:\n",
        "    return [players.shape[0], players.shape[1]]"
      ],
      "metadata": {
        "id": "FKegZi0oM91y"
      },
      "execution_count": null,
      "outputs": []
    },
    {
      "cell_type": "markdown",
      "source": [
        "# 03 Display the First Three Rows"
      ],
      "metadata": {
        "id": "vjtuxPToydOD"
      }
    },
    {
      "cell_type": "code",
      "source": [
        "import pandas as pd\n",
        "\n",
        "def selectFirstRows(employees: pd.DataFrame) -> pd.DataFrame:\n",
        "    return employees.head(3)"
      ],
      "metadata": {
        "id": "w9rQ52P--L6n"
      },
      "execution_count": null,
      "outputs": []
    },
    {
      "cell_type": "code",
      "source": [
        "import pandas as pd\n",
        "\n",
        "def selectFirstRows(employees: pd.DataFrame) -> pd.DataFrame:\n",
        "    return employees[0:3]"
      ],
      "metadata": {
        "id": "g0sRObd40eHo"
      },
      "execution_count": null,
      "outputs": []
    },
    {
      "cell_type": "code",
      "source": [
        "import pandas as pd\n",
        "\n",
        "def selectFirstRows(employees: pd.DataFrame) -> pd.DataFrame:\n",
        "    result = employees[0:3]\n",
        "    return result"
      ],
      "metadata": {
        "id": "TNUDq8H41juZ"
      },
      "execution_count": null,
      "outputs": []
    },
    {
      "cell_type": "code",
      "source": [
        "import pandas as pd\n",
        "\n",
        "def selectFirstRows(employees: pd.DataFrame) -> pd.DataFrame:\n",
        "    return employees[:3]"
      ],
      "metadata": {
        "id": "fTn_neyf1xGN"
      },
      "execution_count": null,
      "outputs": []
    },
    {
      "cell_type": "code",
      "source": [
        "import pandas as pd\n",
        "\n",
        "def selectFirstRows(employees: pd.DataFrame) -> pd.DataFrame:\n",
        "    return employees.loc[0:2]"
      ],
      "metadata": {
        "id": "8VEJd8So2N3z"
      },
      "execution_count": null,
      "outputs": []
    },
    {
      "cell_type": "code",
      "source": [
        "import pandas as pd\n",
        "\n",
        "def selectFirstRows(employees: pd.DataFrame) -> pd.DataFrame:\n",
        "    return employees.head(3)"
      ],
      "metadata": {
        "id": "tyuNqUgM2PBS"
      },
      "execution_count": null,
      "outputs": []
    },
    {
      "cell_type": "markdown",
      "source": [
        "# 04 Select Data"
      ],
      "metadata": {
        "id": "UUiO7Plcyhgn"
      }
    },
    {
      "cell_type": "code",
      "source": [
        "import pandas as pd\n",
        "\n",
        "def selectData(students: pd.DataFrame) -> pd.DataFrame:\n",
        "    return students.query('student_id ==  101')[['name', 'age']]"
      ],
      "metadata": {
        "id": "t4-CxLtu-4wB"
      },
      "execution_count": null,
      "outputs": []
    },
    {
      "cell_type": "code",
      "source": [
        "import pandas as pd\n",
        "\n",
        "def selectData(students: pd.DataFrame) -> pd.DataFrame:\n",
        "    return students[students['student_id'] ==  101][['name', 'age']]"
      ],
      "metadata": {
        "id": "Vb89m6J-OVVk"
      },
      "execution_count": null,
      "outputs": []
    },
    {
      "cell_type": "markdown",
      "source": [
        "# 05 Create a New Column"
      ],
      "metadata": {
        "id": "5HdxHIxlyiSr"
      }
    },
    {
      "cell_type": "code",
      "source": [
        "import pandas as pd\n",
        "\n",
        "def createBonusColumn(employees: pd.DataFrame) -> pd.DataFrame:\n",
        "    employees[['bonus']] = employees[['salary']] * 2\n",
        "    return employees"
      ],
      "metadata": {
        "id": "2KHFiiCHFkwt"
      },
      "execution_count": null,
      "outputs": []
    },
    {
      "cell_type": "code",
      "source": [
        "import pandas as pd\n",
        "\n",
        "def createBonusColumn(employees: pd.DataFrame) -> pd.DataFrame:\n",
        "    return employees.assign(bonus=employees['salary'] * 2)"
      ],
      "metadata": {
        "id": "kW98NkH-PJlZ"
      },
      "execution_count": null,
      "outputs": []
    },
    {
      "cell_type": "markdown",
      "source": [
        "# 06 Drop Duplicate Rows"
      ],
      "metadata": {
        "id": "A-ubzAlVyjDp"
      }
    },
    {
      "cell_type": "code",
      "source": [
        "import pandas as pd\n",
        "\n",
        "def dropDuplicateEmails(customers: pd.DataFrame) -> pd.DataFrame:\n",
        "    return customers.drop_duplicates(subset='email')"
      ],
      "metadata": {
        "id": "aRFnbA7IJuZg"
      },
      "execution_count": null,
      "outputs": []
    },
    {
      "cell_type": "code",
      "source": [
        "import pandas as pd\n",
        "\n",
        "def dropDuplicateEmails(customers: pd.DataFrame) -> pd.DataFrame:\n",
        "    return customers.drop_duplicates(subset='email')"
      ],
      "metadata": {
        "id": "01GmtdapEdv8"
      },
      "execution_count": null,
      "outputs": []
    },
    {
      "cell_type": "markdown",
      "source": [
        "# 07 Drop Missing Data"
      ],
      "metadata": {
        "id": "nsHs9DqHyj8g"
      }
    },
    {
      "cell_type": "code",
      "source": [
        "import pandas as pd\n",
        "\n",
        "def dropMissingData(students: pd.DataFrame) -> pd.DataFrame:\n",
        "    return students.dropna(subset='name')"
      ],
      "metadata": {
        "id": "rE0myBTjNpUg"
      },
      "execution_count": null,
      "outputs": []
    },
    {
      "cell_type": "code",
      "source": [
        "import pandas as pd\n",
        "\n",
        "def dropMissingData(students: pd.DataFrame) -> pd.DataFrame:\n",
        "    return students.dropna(subset='name')"
      ],
      "metadata": {
        "id": "2WtKW4qNKPio"
      },
      "execution_count": null,
      "outputs": []
    },
    {
      "cell_type": "markdown",
      "source": [
        "# 08 Modify Columns"
      ],
      "metadata": {
        "id": "WFRk6SUFytE_"
      }
    },
    {
      "cell_type": "code",
      "source": [
        "import pandas as pd\n",
        "\n",
        "def modifySalaryColumn(employees: pd.DataFrame) -> pd.DataFrame:\n",
        "    employees[['salary']] = employees[['salary']] * 2\n",
        "    return employees"
      ],
      "metadata": {
        "id": "GcLQsJBZNy70"
      },
      "execution_count": null,
      "outputs": []
    },
    {
      "cell_type": "code",
      "source": [
        "import pandas as pd\n",
        "\n",
        "def modifySalaryColumn(employees: pd.DataFrame) -> pd.DataFrame:\n",
        "    return employees.assign(salary=employees['salary'] * 2)"
      ],
      "metadata": {
        "id": "K6oBWfDUNd-_"
      },
      "execution_count": null,
      "outputs": []
    },
    {
      "cell_type": "markdown",
      "source": [
        "# 09 Rename Columns"
      ],
      "metadata": {
        "id": "ySyMObWxyu5B"
      }
    },
    {
      "cell_type": "code",
      "source": [
        "import pandas as pd\n",
        "\n",
        "def renameColumns(students: pd.DataFrame) -> pd.DataFrame:\n",
        "    return students.rename(columns={\n",
        "        'id': 'student_id',\n",
        "        'first': 'first_name',\n",
        "        'last': 'last_name',\n",
        "        'age': 'age_in_years'\n",
        "    })"
      ],
      "metadata": {
        "id": "ywV1s43oOCnH"
      },
      "execution_count": null,
      "outputs": []
    },
    {
      "cell_type": "markdown",
      "source": [
        "# 10 Change Data Type"
      ],
      "metadata": {
        "id": "P77z9lHRywqh"
      }
    },
    {
      "cell_type": "code",
      "source": [
        "import pandas as pd\n",
        "\n",
        "def changeDatatype(students: pd.DataFrame) -> pd.DataFrame:\n",
        "    students[['grade']] =  students[['grade']].astype('int')\n",
        "    return students"
      ],
      "metadata": {
        "id": "xKEymDXwOSB2"
      },
      "execution_count": null,
      "outputs": []
    },
    {
      "cell_type": "markdown",
      "source": [
        "# 11 Fill Missing Data"
      ],
      "metadata": {
        "id": "woR8Mck3yyUj"
      }
    },
    {
      "cell_type": "code",
      "source": [
        "import pandas as pd\n",
        "\n",
        "def fillMissingValues(products: pd.DataFrame) -> pd.DataFrame:\n",
        "    products[['quantity']] = products[['quantity']].fillna(0)\n",
        "    return products"
      ],
      "metadata": {
        "id": "VdFumbY-OgY2"
      },
      "execution_count": null,
      "outputs": []
    },
    {
      "cell_type": "markdown",
      "source": [
        "# 12 Reshape Data: Concatenate"
      ],
      "metadata": {
        "id": "rqECZ8UKyzXR"
      }
    },
    {
      "cell_type": "markdown",
      "source": [
        "# 13 Reshape Data: Pivot"
      ],
      "metadata": {
        "id": "9bEfD5aPy2H7"
      }
    },
    {
      "cell_type": "markdown",
      "source": [
        "# 14 Reshape Data: Melt"
      ],
      "metadata": {
        "id": "hBUFQ4HSy3Zb"
      }
    },
    {
      "cell_type": "markdown",
      "source": [
        "# 15 Method Chaining"
      ],
      "metadata": {
        "id": "hPDtvrx2y6N9"
      }
    },
    {
      "cell_type": "code",
      "source": [
        "import pandas as pd\n",
        "\n",
        "def dropDuplicateEmails(customers: pd.DataFrame) -> pd.DataFrame:\n",
        "    return customers.drop_duplicates(subset='email')"
      ],
      "metadata": {
        "id": "q6Cl0wVGs0QU"
      },
      "execution_count": null,
      "outputs": []
    },
    {
      "cell_type": "code",
      "source": [
        "import pandas as pd\n",
        "\n",
        "def dropMissingData(students: pd.DataFrame) -> pd.DataFrame:\n",
        "    return students.dropna(subset='name')"
      ],
      "metadata": {
        "id": "Ycn-7ydqtA2g"
      },
      "execution_count": null,
      "outputs": []
    },
    {
      "cell_type": "code",
      "source": [
        "import pandas as pd\n",
        "\n",
        "def dropMissingData(students: pd.DataFrame) -> pd.DataFrame:\n",
        "    return students.dropna(subset='name')"
      ],
      "metadata": {
        "id": "1sh8bYgctRy4"
      },
      "execution_count": null,
      "outputs": []
    },
    {
      "cell_type": "code",
      "source": [
        "import pandas as pd\n",
        "\n",
        "def renameColumns(students: pd.DataFrame) -> pd.DataFrame:\n",
        "    students.columns = ['student_id', 'first_name', 'last_name', 'age_in_years']\n",
        "    return students"
      ],
      "metadata": {
        "id": "CMs8bQ96FaKb"
      },
      "execution_count": null,
      "outputs": []
    },
    {
      "cell_type": "code",
      "source": [
        "import pandas as pd\n",
        "\n",
        "def changeDatatype(students: pd.DataFrame) -> pd.DataFrame:\n",
        "    return students.astype({'grade':'int'})"
      ],
      "metadata": {
        "id": "cdGMWRC9GiK4"
      },
      "execution_count": null,
      "outputs": []
    },
    {
      "cell_type": "code",
      "source": [
        "import pandas as pd\n",
        "\n",
        "def fillMissingValues(products: pd.DataFrame) -> pd.DataFrame:\n",
        "    return products.fillna({'quantity': 0})"
      ],
      "metadata": {
        "id": "OlL2W0JdHVFw"
      },
      "execution_count": null,
      "outputs": []
    },
    {
      "cell_type": "code",
      "source": [
        "import pandas as pd\n",
        "\n",
        "def concatenateTables(df1: pd.DataFrame, df2: pd.DataFrame) -> pd.DataFrame:\n",
        "    return pd.concat([df1, df2])"
      ],
      "metadata": {
        "id": "Igj1Pg_CHsQL"
      },
      "execution_count": null,
      "outputs": []
    },
    {
      "cell_type": "code",
      "source": [
        "import pandas as pd\n",
        "\n",
        "def pivotTable(weather: pd.DataFrame) -> pd.DataFrame:\n",
        "    return weather.pivot(index='month', columns='city', values='temperature')"
      ],
      "metadata": {
        "id": "QhFE7lXMIeVD"
      },
      "execution_count": null,
      "outputs": []
    },
    {
      "cell_type": "code",
      "source": [
        "import pandas as pd\n",
        "\n",
        "def meltTable(report: pd.DataFrame) -> pd.DataFrame:\n",
        "    return pd.melt(report, id_vars='product', var_name='quarter', value_name='sales')"
      ],
      "metadata": {
        "id": "gTXqyNquI9RG"
      },
      "execution_count": null,
      "outputs": []
    },
    {
      "cell_type": "code",
      "source": [
        "import pandas as pd\n",
        "\n",
        "def meltTable(report: pd.DataFrame) -> pd.DataFrame:\n",
        "    return pd.melt(report, id_vars='product', var_name='quarter', value_name='sales')"
      ],
      "metadata": {
        "id": "NtXSD1ZoJWk1"
      },
      "execution_count": null,
      "outputs": []
    },
    {
      "cell_type": "code",
      "source": [
        "import pandas as pd\n",
        "\n",
        "def meltTable(report: pd.DataFrame) -> pd.DataFrame:\n",
        "    return pd.melt(report, id_vars='product', var_name='quarter', value_name='sales')"
      ],
      "metadata": {
        "id": "OuJzrHQ4x5SU"
      },
      "execution_count": null,
      "outputs": []
    },
    {
      "cell_type": "code",
      "source": [
        "import pandas as pd\n",
        "\n",
        "def pivotTable(weather: pd.DataFrame) -> pd.DataFrame:\n",
        "    return weather.pivot(index='month', columns='city', values='temperature')"
      ],
      "metadata": {
        "id": "3qOtY1u56tqf"
      },
      "execution_count": null,
      "outputs": []
    },
    {
      "cell_type": "code",
      "source": [
        "import pandas as pd\n",
        "\n",
        "def modifySalaryColumn(employees: pd.DataFrame) -> pd.DataFrame:\n",
        "    return employees.assign(salary=employees['salary'] * 2)"
      ],
      "metadata": {
        "id": "l9Gsf1sDsVRe"
      },
      "execution_count": null,
      "outputs": []
    },
    {
      "cell_type": "code",
      "source": [
        "import pandas as pd\n",
        "\n",
        "def createBonusColumn(employees: pd.DataFrame) -> pd.DataFrame:\n",
        "    return employees.assign(bonus=employees['salary'] * 2)"
      ],
      "metadata": {
        "id": "OmjklJ-IslLr"
      },
      "execution_count": null,
      "outputs": []
    },
    {
      "cell_type": "code",
      "source": [
        "import pandas as pd\n",
        "\n",
        "def modifySalaryColumn(employees: pd.DataFrame) -> pd.DataFrame:\n",
        "    return employees.assign(salary=employees['salary'] * 2)"
      ],
      "metadata": {
        "id": "aih0AKw-syYH"
      },
      "execution_count": null,
      "outputs": []
    }
  ]
}