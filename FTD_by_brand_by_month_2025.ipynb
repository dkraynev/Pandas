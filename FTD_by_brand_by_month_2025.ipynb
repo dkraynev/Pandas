{
  "nbformat": 4,
  "nbformat_minor": 0,
  "metadata": {
    "colab": {
      "provenance": [],
      "authorship_tag": "ABX9TyMYBY2MybXqJLnOa2egVwVV",
      "include_colab_link": true
    },
    "kernelspec": {
      "name": "python3",
      "display_name": "Python 3"
    },
    "language_info": {
      "name": "python"
    }
  },
  "cells": [
    {
      "cell_type": "markdown",
      "metadata": {
        "id": "view-in-github",
        "colab_type": "text"
      },
      "source": [
        "<a href=\"https://colab.research.google.com/github/dkraynev/Pandas/blob/main/FTD_by_brand_by_month_2025.ipynb\" target=\"_parent\"><img src=\"https://colab.research.google.com/assets/colab-badge.svg\" alt=\"Open In Colab\"/></a>"
      ]
    },
    {
      "cell_type": "code",
      "execution_count": 9,
      "metadata": {
        "colab": {
          "base_uri": "https://localhost:8080/"
        },
        "id": "5VhHGLitUHH4",
        "outputId": "52175dc1-fe75-4b85-f142-ec43b0dd6206"
      },
      "outputs": [
        {
          "output_type": "stream",
          "name": "stdout",
          "text": [
            "Reading CSV from: G:My Drive\\002\\056\\ftd_by_months.csv\n"
          ]
        }
      ],
      "source": [
        "import os\n",
        "from pathlib import Path\n",
        "from datetime import datetime\n",
        "import pandas as pd\n",
        "import numpy as np\n",
        "import plotly.express as px\n",
        "import plotly.io as pio\n",
        "\n",
        "csv_path = Path(r\"G:My Drive\\002\\056\\ftd_by_months.csv\")\n",
        "out_dir = csv_path.parent\n",
        "out_dir.mkdir(parents=True, exist_ok=True)\n",
        "\n",
        "print(f\"Reading CSV from: {csv_path}\")\n",
        "\n",
        "df = pd.read_csv(csv_path)"
      ]
    }
  ]
}