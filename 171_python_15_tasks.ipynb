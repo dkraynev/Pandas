{
  "nbformat": 4,
  "nbformat_minor": 0,
  "metadata": {
    "colab": {
      "provenance": [],
      "authorship_tag": "ABX9TyOSJ3D08AIvxQlEAxOAJrhr",
      "include_colab_link": true
    },
    "kernelspec": {
      "name": "python3",
      "display_name": "Python 3"
    },
    "language_info": {
      "name": "python"
    }
  },
  "cells": [
    {
      "cell_type": "markdown",
      "metadata": {
        "id": "view-in-github",
        "colab_type": "text"
      },
      "source": [
        "<a href=\"https://colab.research.google.com/github/dkraynev/Pandas/blob/main/171_python_15_tasks.ipynb\" target=\"_parent\"><img src=\"https://colab.research.google.com/assets/colab-badge.svg\" alt=\"Open In Colab\"/></a>"
      ]
    },
    {
      "cell_type": "markdown",
      "source": [
        "# #01"
      ],
      "metadata": {
        "id": "Lm9tSFQ7N8pW"
      }
    },
    {
      "cell_type": "code",
      "execution_count": null,
      "metadata": {
        "id": "VlGwqLm0NzKu"
      },
      "outputs": [],
      "source": [
        "import pandas as pd\n",
        "\n",
        "def createDataframe(student_data):\n",
        "    df =  pd.DataFrame(student_data, columns=['student_id', 'age'])\n",
        "    return df"
      ]
    },
    {
      "cell_type": "markdown",
      "source": [
        "# #02"
      ],
      "metadata": {
        "id": "7Dla4UXgOA2x"
      }
    },
    {
      "cell_type": "code",
      "source": [
        "import pandas as pd\n",
        "\n",
        "def getDataframeSize(players):\n",
        "    r, c = players.shape\n",
        "    return [r,c]"
      ],
      "metadata": {
        "id": "x5Px3AbcN8Jr"
      },
      "execution_count": null,
      "outputs": []
    },
    {
      "cell_type": "code",
      "source": [
        "import pandas as pd\n",
        "\n",
        "def getDataframeSize(players):\n",
        "    return list(players.shape)"
      ],
      "metadata": {
        "id": "CHfOdSXkOxDZ"
      },
      "execution_count": null,
      "outputs": []
    },
    {
      "cell_type": "markdown",
      "source": [
        "# #03"
      ],
      "metadata": {
        "id": "6hlhnDmPPrhv"
      }
    },
    {
      "cell_type": "code",
      "source": [
        "import pandas as pd\n",
        "\n",
        "def selectFirstRows(employees):\n",
        "    return employees.head(3)"
      ],
      "metadata": {
        "id": "P6qPhLuCPtL8"
      },
      "execution_count": null,
      "outputs": []
    },
    {
      "cell_type": "code",
      "source": [
        "import pandas as pd\n",
        "\n",
        "def selectFirstRows(employees):\n",
        "    return employees[0:3]"
      ],
      "metadata": {
        "id": "wtsraQMrQQ4Z"
      },
      "execution_count": null,
      "outputs": []
    },
    {
      "cell_type": "code",
      "source": [
        "import pandas as pd\n",
        "\n",
        "def selectFirstRows(employees):\n",
        "    return employees.loc[0:2]"
      ],
      "metadata": {
        "id": "75XrQc3oRGJ7"
      },
      "execution_count": null,
      "outputs": []
    },
    {
      "cell_type": "code",
      "source": [
        "import pandas as pd\n",
        "\n",
        "def selectFirstRows(employees):\n",
        "    return employees.iloc[0:3]"
      ],
      "metadata": {
        "id": "DiBXOgj1RHBK"
      },
      "execution_count": null,
      "outputs": []
    },
    {
      "cell_type": "markdown",
      "source": [
        "# #04"
      ],
      "metadata": {
        "id": "A4sEC0JBSVjN"
      }
    },
    {
      "cell_type": "code",
      "source": [
        "import pandas as pd\n",
        "\n",
        "def selectData(students: pd.DataFrame) -> pd.DataFrame:\n",
        "    return students[students['student_id'] == 101][['name', 'age']]"
      ],
      "metadata": {
        "id": "OwMV0luMSXt4"
      },
      "execution_count": null,
      "outputs": []
    },
    {
      "cell_type": "code",
      "source": [
        "import pandas as pd\n",
        "\n",
        "def selectData(students):\n",
        "    return students[students['student_id'] == 101][[\n",
        "        'name', 'age'\n",
        "    ]]"
      ],
      "metadata": {
        "id": "T1gGw_8bS46C"
      },
      "execution_count": null,
      "outputs": []
    }
  ]
}