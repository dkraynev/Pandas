{
  "nbformat": 4,
  "nbformat_minor": 0,
  "metadata": {
    "colab": {
      "provenance": [],
      "authorship_tag": "ABX9TyNDp2Wzi+scQqIzYmikyp5b",
      "include_colab_link": true
    },
    "kernelspec": {
      "name": "python3",
      "display_name": "Python 3"
    },
    "language_info": {
      "name": "python"
    }
  },
  "cells": [
    {
      "cell_type": "markdown",
      "metadata": {
        "id": "view-in-github",
        "colab_type": "text"
      },
      "source": [
        "<a href=\"https://colab.research.google.com/github/dkraynev/Pandas/blob/main/171_python_15_tasks.ipynb\" target=\"_parent\"><img src=\"https://colab.research.google.com/assets/colab-badge.svg\" alt=\"Open In Colab\"/></a>"
      ]
    },
    {
      "cell_type": "markdown",
      "source": [
        "# #01"
      ],
      "metadata": {
        "id": "Lm9tSFQ7N8pW"
      }
    },
    {
      "cell_type": "code",
      "execution_count": null,
      "metadata": {
        "id": "VlGwqLm0NzKu"
      },
      "outputs": [],
      "source": [
        "import pandas as pd\n",
        "\n",
        "def createDataframe(student_data):\n",
        "    df =  pd.DataFrame(student_data, columns=['student_id', 'age'])\n",
        "    return df"
      ]
    },
    {
      "cell_type": "markdown",
      "source": [
        "# #02"
      ],
      "metadata": {
        "id": "7Dla4UXgOA2x"
      }
    },
    {
      "cell_type": "code",
      "source": [
        "import pandas as pd\n",
        "\n",
        "def getDataframeSize(players):\n",
        "    r, c = players.shape\n",
        "    return [r,c]"
      ],
      "metadata": {
        "id": "x5Px3AbcN8Jr"
      },
      "execution_count": null,
      "outputs": []
    }
  ]
}