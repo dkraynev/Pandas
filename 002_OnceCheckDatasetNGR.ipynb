{
  "nbformat": 4,
  "nbformat_minor": 0,
  "metadata": {
    "colab": {
      "provenance": [],
      "authorship_tag": "ABX9TyNjbimbkDCRxmZmXgEAcVXK",
      "include_colab_link": true
    },
    "kernelspec": {
      "name": "python3",
      "display_name": "Python 3"
    },
    "language_info": {
      "name": "python"
    }
  },
  "cells": [
    {
      "cell_type": "markdown",
      "metadata": {
        "id": "view-in-github",
        "colab_type": "text"
      },
      "source": [
        "<a href=\"https://colab.research.google.com/github/dkraynev/Pandas/blob/main/002_OnceCheckDatasetNGR.ipynb\" target=\"_parent\"><img src=\"https://colab.research.google.com/assets/colab-badge.svg\" alt=\"Open In Colab\"/></a>"
      ]
    },
    {
      "cell_type": "code",
      "execution_count": 1,
      "metadata": {
        "id": "oUjs9HGvCapo"
      },
      "outputs": [],
      "source": [
        "import os\n",
        "import pandas as pd"
      ]
    },
    {
      "cell_type": "code",
      "source": [
        "# Point path to a local folder, where are csv files\n",
        "current_dir = r'G:\\My Drive\\001\\Datasets\\NGR'\n",
        "\n",
        "# Collect list of all *.csv files in folder\n",
        "csv_files = [f for f in os.listdir(current_dir) if f.lower().endswith(\".csv\")]\n",
        "\n",
        "# Sort files by name (lexicografically)\n",
        "csv_files.sort()\n",
        "\n",
        "# For common information\n",
        "global_min_date = None\n",
        "global_max_date = None\n",
        "\n",
        "# Summary NaN/NaT for all files\n",
        "total_missing_nans_before = 0 # Before to datetime\n",
        "total_missing_nans_after = 0 # Afer to datetime\n"
      ],
      "metadata": {
        "id": "JdFkpYswC-HA"
      },
      "execution_count": 7,
      "outputs": []
    }
  ]
}