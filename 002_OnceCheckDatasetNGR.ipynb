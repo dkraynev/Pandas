{
  "nbformat": 4,
  "nbformat_minor": 0,
  "metadata": {
    "colab": {
      "provenance": [],
      "authorship_tag": "ABX9TyPYKKe8510YiwyBUXclmD51",
      "include_colab_link": true
    },
    "kernelspec": {
      "name": "python3",
      "display_name": "Python 3"
    },
    "language_info": {
      "name": "python"
    }
  },
  "cells": [
    {
      "cell_type": "markdown",
      "metadata": {
        "id": "view-in-github",
        "colab_type": "text"
      },
      "source": [
        "<a href=\"https://colab.research.google.com/github/dkraynev/Pandas/blob/main/002_OnceCheckDatasetNGR.ipynb\" target=\"_parent\"><img src=\"https://colab.research.google.com/assets/colab-badge.svg\" alt=\"Open In Colab\"/></a>"
      ]
    },
    {
      "cell_type": "code",
      "execution_count": null,
      "metadata": {
        "id": "oUjs9HGvCapo"
      },
      "outputs": [],
      "source": [
        "import os\n",
        "import pandas as pd"
      ]
    },
    {
      "cell_type": "code",
      "source": [
        "# Point path to a local folder, where are csv files\n",
        "current_dir = r'G\\My Drive\\001\\Datasets\\NGR'\n",
        "\n",
        "# Collect list of all *.csv files in folder\n"
      ],
      "metadata": {
        "id": "JdFkpYswC-HA"
      },
      "execution_count": null,
      "outputs": []
    }
  ]
}