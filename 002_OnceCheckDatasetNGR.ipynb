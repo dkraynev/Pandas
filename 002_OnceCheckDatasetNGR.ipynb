{
  "nbformat": 4,
  "nbformat_minor": 0,
  "metadata": {
    "colab": {
      "provenance": [],
      "authorship_tag": "ABX9TyPAbosO2NRfoj/68MLdwdrK",
      "include_colab_link": true
    },
    "kernelspec": {
      "name": "python3",
      "display_name": "Python 3"
    },
    "language_info": {
      "name": "python"
    }
  },
  "cells": [
    {
      "cell_type": "markdown",
      "metadata": {
        "id": "view-in-github",
        "colab_type": "text"
      },
      "source": [
        "<a href=\"https://colab.research.google.com/github/dkraynev/Pandas/blob/main/002_OnceCheckDatasetNGR.ipynb\" target=\"_parent\"><img src=\"https://colab.research.google.com/assets/colab-badge.svg\" alt=\"Open In Colab\"/></a>"
      ]
    },
    {
      "cell_type": "code",
      "execution_count": 1,
      "metadata": {
        "id": "oUjs9HGvCapo"
      },
      "outputs": [],
      "source": [
        "import os\n",
        "import pandas as pd"
      ]
    },
    {
      "cell_type": "code",
      "source": [
        "# Point path to a local folder, where are csv files\n",
        "current_dir = r'G:\\My Drive\\001\\Datasets\\NGR'\n",
        "\n",
        "# Collect list of all *.csv files in folder\n",
        "csv_files = [f for f in os.listdir(current_dir) if f.lower().endswith(\".csv\")]\n",
        "\n",
        "# Sort files by name (lexicografically)\n",
        "csv_files.sort()\n",
        "\n",
        "# For common information\n",
        "global_min_date = None\n",
        "global_max_date = None\n",
        "\n",
        "# Summary NaN/NaT for all files\n",
        "total_missing_nans_before = 0 # Before to datetime\n",
        "total_missing_nans_after = 0 # Afer to datetime\n",
        "\n",
        "# Store all real (not NaT) dates from all files\n",
        "all_real_dates = set()\n",
        "\n",
        "# Go through every file\n",
        "for csv_file in csv_files:\n",
        "    file_path = os.path.join(current_dir, csv_file)\n",
        "    print(f'\\nFile: {csv_file}')\n",
        "\n",
        "    #Read CSV in DataFrame\n",
        "    df = pd.read_csv(file_path, low_memory=False)\n",
        "\n",
        "    #Check absence column with data\n",
        "    if \"RevenueDate\" not in df.columns:\n",
        "        print(\"In this file doesn't have column 'RevenueDate. Skip...\")\n",
        "        continue\n",
        "\n",
        "    # Counts number NaN (empty) dates (befor conversion)\n",
        "    missing_dates_count = df['RevenueDate'].isna().sum()\n",
        "    total_missing_nans_before += missing_dates_count"
      ],
      "metadata": {
        "id": "JdFkpYswC-HA"
      },
      "execution_count": null,
      "outputs": []
    }
  ]
}