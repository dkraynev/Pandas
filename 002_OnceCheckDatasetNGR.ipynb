{
  "nbformat": 4,
  "nbformat_minor": 0,
  "metadata": {
    "colab": {
      "provenance": [],
      "authorship_tag": "ABX9TyOsGBLpDo53HMjhB22WmvYe",
      "include_colab_link": true
    },
    "kernelspec": {
      "name": "python3",
      "display_name": "Python 3"
    },
    "language_info": {
      "name": "python"
    }
  },
  "cells": [
    {
      "cell_type": "markdown",
      "metadata": {
        "id": "view-in-github",
        "colab_type": "text"
      },
      "source": [
        "<a href=\"https://colab.research.google.com/github/dkraynev/Pandas/blob/main/002_OnceCheckDatasetNGR.ipynb\" target=\"_parent\"><img src=\"https://colab.research.google.com/assets/colab-badge.svg\" alt=\"Open In Colab\"/></a>"
      ]
    },
    {
      "cell_type": "code",
      "execution_count": 3,
      "metadata": {
        "id": "oUjs9HGvCapo"
      },
      "outputs": [],
      "source": [
        "import os\n",
        "import pandas as pd"
      ]
    },
    {
      "cell_type": "code",
      "source": [
        "# Point path to a local folder, where are csv files\n",
        "current_dir = r'G:\\My Drive\\001\\Datasets\\NGR'\n",
        "\n",
        "# Collect list of all *.csv files in folder\n",
        "csv_files = [f for f in os.listdir(current_dir) if f.lower().endswith(\".csv\")]\n",
        "\n",
        "# Sort files by name (lexicografically)\n",
        "csv_files.sort()\n",
        "\n",
        "# For common information\n",
        "global_min_date = None\n",
        "global_max_date = None\n",
        "\n",
        "# Summary NaN/NaT for all files\n",
        "total_missing_nans_before = 0 # Before to datetime\n",
        "total_missing_nans_after = 0 # Afer to datetime\n",
        "\n",
        "# Store all real (not NaT) dates from all files\n",
        "all_real_dates = set()\n",
        "\n",
        "# Go through every file\n",
        "for csv_file in csv_files:\n",
        "    file_path = os.path.join(current_dir, csv_file)\n",
        "    print(f'\\nFile: {csv_file}')\n",
        "\n",
        "    #Read CSV in DataFrame\n",
        "    df = pd.read_csv(file_path, low_memory=False)\n",
        "\n",
        "    #Check absence column with data\n",
        "    if \"RevenueDate\" not in df.columns:\n",
        "        print(\"In this file doesn't have column 'RevenueDate. Skip...\")\n",
        "        continue\n",
        "\n",
        "    # Counts number NaN (empty) dates (befor conversion)\n",
        "    missing_dates_count = df['RevenueDate'].isna().sum()\n",
        "    total_missing_nans_before += missing_dates_count\n",
        "\n",
        "    # Пробуем преобразовать в формат datetime (ошибочные заполнить NaT)\n",
        "    df['RevenueDate'] =  pd.to_datetime(df['RevenueDate'], errors='coerce')\n",
        "\n",
        "    # Сколько стало NaT после конвертации\n",
        "    total_nats_after_conversion_file = df['RevenueDate'].isna().sum\n",
        "    total_missing_nans_after += total_nats_after_conversion_file\n"
      ],
      "metadata": {
        "id": "JdFkpYswC-HA",
        "colab": {
          "base_uri": "https://localhost:8080/",
          "height": 220
        },
        "outputId": "f4169da9-cf43-4bd9-fe9a-7029e99b31c4"
      },
      "execution_count": 4,
      "outputs": [
        {
          "output_type": "stream",
          "name": "stdout",
          "text": [
            "\n",
            "File: NGR_ET_2023.csv\n"
          ]
        },
        {
          "output_type": "error",
          "ename": "TypeError",
          "evalue": "unsupported operand type(s) for +=: 'int' and 'method'",
          "traceback": [
            "\u001b[1;31m---------------------------------------------------------------------------\u001b[0m",
            "\u001b[1;31mTypeError\u001b[0m                                 Traceback (most recent call last)",
            "Cell \u001b[1;32mIn[4], line 43\u001b[0m\n\u001b[0;32m     41\u001b[0m \u001b[38;5;66;03m# Сколько стало NaT после конвертации\u001b[39;00m\n\u001b[0;32m     42\u001b[0m total_nats_after_conversion_file \u001b[38;5;241m=\u001b[39m df[\u001b[38;5;124m'\u001b[39m\u001b[38;5;124mRevenueDate\u001b[39m\u001b[38;5;124m'\u001b[39m]\u001b[38;5;241m.\u001b[39misna()\u001b[38;5;241m.\u001b[39msum\n\u001b[1;32m---> 43\u001b[0m \u001b[43mtotal_missing_nans_after\u001b[49m\u001b[43m \u001b[49m\u001b[38;5;241;43m+\u001b[39;49m\u001b[38;5;241;43m=\u001b[39;49m\u001b[43m \u001b[49m\u001b[43mtotal_nats_after_conversion_file\u001b[49m\n",
            "\u001b[1;31mTypeError\u001b[0m: unsupported operand type(s) for +=: 'int' and 'method'"
          ]
        }
      ]
    }
  ]
}